{
 "cells": [
  {
   "cell_type": "markdown",
   "metadata": {
    "collapsed": false
   },
   "source": [
    "# python Gui Dev Note(pyqt开发笔记)"
   ]
  },
  {
   "cell_type": "markdown",
   "metadata": {},
   "source": [
    "## 1.初识"
   ]
  },
  {
   "cell_type": "markdown",
   "metadata": {},
   "source": [
    "### 1.创建第一个pyqt程序"
   ]
  },
  {
   "cell_type": "code",
   "execution_count": null,
   "metadata": {
    "ExecuteTime": {
     "end_time": "2024-02-06T13:34:33.779448500Z",
     "start_time": "2024-02-06T13:34:26.599714800Z"
    }
   },
   "outputs": [],
   "source": [
    "%cd ../src\n",
    "\n",
    "!python main.py"
   ]
  },
  {
   "cell_type": "markdown",
   "metadata": {},
   "source": [
    "### 2.使用图标"
   ]
  },
  {
   "cell_type": "code",
   "execution_count": 1,
   "metadata": {
    "ExecuteTime": {
     "end_time": "2024-02-06T13:32:08.710515300Z",
     "start_time": "2024-02-06T13:32:08.307856400Z"
    }
   },
   "outputs": [
    {
     "name": "stderr",
     "output_type": "stream",
     "text": [
      "H:\\SystemCache\\ipykernel_4752\\2948526159.py:8: DeprecationWarning: sipPyTypeDict() is deprecated, the extension module should use sipPyTypeDictRef() instead\n",
      "  super().__init__()\n"
     ]
    }
   ],
   "source": [
    "from PyQt6.QtWidgets import QWidget,QApplication\n",
    "from PyQt6.QtGui import QIcon\n",
    "from PyQt6.QtCore import QRect\n",
    "import sys\n",
    "\n",
    "class Window(QWidget):\n",
    "    def __init__(self) -> None:\n",
    "        super().__init__()\n",
    "        self.setGeometry(QRect(600, 300, 800, 350))\n",
    "        self.setWindowTitle(\"python Gui Dev\")\n",
    "        self.setWindowIcon(QIcon(\"../img/1.ico\"))\n",
    "\n",
    "app = QApplication(sys.argv)\n",
    "window = Window()\n",
    "window.show()\n",
    "sys.exit(app.exec())"
   ]
  },
  {
   "cell_type": "markdown",
   "metadata": {},
   "source": [
    "### 3.常用属性\n",
    "- setGeometry 用于窗口,前两个值为到屏幕左上角的距离,后面两个值为宽高\n",
    "- \n",
    "### 4."
   ]
  }
 ],
 "metadata": {
  "kernelspec": {
   "display_name": "pyqt_v-o_qotYET",
   "language": "python",
   "name": "python3"
  },
  "language_info": {
   "codemirror_mode": {
    "name": "ipython",
    "version": 3
   },
   "file_extension": ".py",
   "mimetype": "text/x-python",
   "name": "python",
   "nbconvert_exporter": "python",
   "pygments_lexer": "ipython3",
   "version": "3.9.18"
  }
 },
 "nbformat": 4,
 "nbformat_minor": 2
}
