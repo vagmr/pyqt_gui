{
 "cells": [
  {
   "cell_type": "markdown",
   "source": [
    "# python Gui Dev Note(pyqt开发笔记)"
   ],
   "metadata": {
    "collapsed": false
   }
  },
  {
   "cell_type": "markdown",
   "metadata": {},
   "source": [
    "## 1.创建第一个python程序"
   ]
  },
  {
   "cell_type": "code",
   "execution_count": 4,
   "metadata": {
    "ExecuteTime": {
     "end_time": "2024-02-06T13:34:33.779448500Z",
     "start_time": "2024-02-06T13:34:26.599714800Z"
    }
   },
   "outputs": [
    {
     "name": "stdout",
     "output_type": "stream",
     "text": [
      "H:\\python\\project\\pyqt_v\\src\n",
      "__init__ <__main__.Window object at 0x0000016493115B80>\n"
     ]
    }
   ],
   "source": [
    "%cd ../src\n",
    "\n",
    "!python main.py"
   ]
  },
  {
   "cell_type": "markdown",
   "metadata": {},
   "source": [
    "### 1.使用图标"
   ]
  },
  {
   "cell_type": "code",
   "execution_count": 1,
   "metadata": {
    "ExecuteTime": {
     "end_time": "2024-02-06T13:32:08.710515300Z",
     "start_time": "2024-02-06T13:32:08.307856400Z"
    }
   },
   "outputs": [
    {
     "ename": "ModuleNotFoundError",
     "evalue": "No module named 'PyQt6'",
     "output_type": "error",
     "traceback": [
      "\u001B[1;31m---------------------------------------------------------------------------\u001B[0m",
      "\u001B[1;31mModuleNotFoundError\u001B[0m                       Traceback (most recent call last)",
      "Cell \u001B[1;32mIn[1], line 1\u001B[0m\n\u001B[1;32m----> 1\u001B[0m \u001B[38;5;28;01mfrom\u001B[39;00m \u001B[38;5;21;01mPyQt6\u001B[39;00m\u001B[38;5;21;01m.\u001B[39;00m\u001B[38;5;21;01mQtWidgets\u001B[39;00m \u001B[38;5;28;01mimport\u001B[39;00m QWidget,QApplication\n\u001B[0;32m      2\u001B[0m \u001B[38;5;28;01mfrom\u001B[39;00m \u001B[38;5;21;01mPyQt6\u001B[39;00m\u001B[38;5;21;01m.\u001B[39;00m\u001B[38;5;21;01mQtGui\u001B[39;00m \u001B[38;5;28;01mimport\u001B[39;00m QIcon\n\u001B[0;32m      3\u001B[0m \u001B[38;5;28;01mfrom\u001B[39;00m \u001B[38;5;21;01mPyQt6\u001B[39;00m\u001B[38;5;21;01m.\u001B[39;00m\u001B[38;5;21;01mQtCore\u001B[39;00m \u001B[38;5;28;01mimport\u001B[39;00m QRect\n",
      "\u001B[1;31mModuleNotFoundError\u001B[0m: No module named 'PyQt6'"
     ]
    }
   ],
   "source": [
    "from PyQt6.QtWidgets import QWidget,QApplication\n",
    "from PyQt6.QtGui import QIcon\n",
    "from PyQt6.QtCore import QRect\n",
    "import sys\n",
    "\n",
    "class Window(QWidget):\n",
    "    def __init__(self) -> None:\n",
    "        super().__init__()\n",
    "        self.setGeometry(QRect(600, 300, 800, 350))\n",
    "        self.setWindowTitle(\"python Gui Dev\")\n",
    "        self.setWindowIcon(QIcon(\"../img/1.ico\"))\n",
    "\n",
    "app = QApplication(sys.argv)\n",
    "window = Window()\n",
    "window.show()\n",
    "sys.exit(app.exec())"
   ]
  },
  {
   "cell_type": "code",
   "execution_count": null,
   "outputs": [],
   "source": [],
   "metadata": {
    "collapsed": false
   }
  }
 ],
 "metadata": {
  "kernelspec": {
   "display_name": "pyqt_v-o_qotYET",
   "language": "python",
   "name": "python3"
  },
  "language_info": {
   "codemirror_mode": {
    "name": "ipython",
    "version": 3
   },
   "file_extension": ".py",
   "mimetype": "text/x-python",
   "name": "python",
   "nbconvert_exporter": "python",
   "pygments_lexer": "ipython3",
   "version": "3.9.7"
  }
 },
 "nbformat": 4,
 "nbformat_minor": 2
}
